{
 "cells": [
  {
   "cell_type": "markdown",
   "metadata": {},
   "source": [
    "# Starting of Jupyter Notebook \n",
    "to add a cell above the description, select the description  cell and press 'a' b\n",
    "to add a cell below the description, select description cell and press 'b'"
   ]
  },
  {
   "cell_type": "markdown",
   "metadata": {},
   "source": [
    "# Strings \n",
    "these are data types that contain characters and sentences.\n"
   ]
  },
  {
   "cell_type": "code",
   "execution_count": 7,
   "metadata": {},
   "outputs": [
    {
     "name": "stdout",
     "output_type": "stream",
     "text": [
      "Jupyter Notebook\n",
      "Jupyter Notebook1\n",
      "Jupyter Notebook2\n"
     ]
    }
   ],
   "source": [
    "strSample = 'Jupyter Notebook'\n",
    "strSample1 = \"Jupyter Notebook1\"\n",
    "strSample2 = '''Jupyter Notebook2'''\n",
    "print(strSample)\n",
    "print(strSample1)\n",
    "print(strSample2)\n",
    "# string creation"
   ]
  },
  {
   "cell_type": "markdown",
   "metadata": {},
   "source": [
    "# List \n",
    "lists are sequence data type, created using square brackets [] and its a sequence elements that contains different data type inside them, like strings, integers, floats,.. etc\n"
   ]
  },
  {
   "cell_type": "code",
   "execution_count": 10,
   "metadata": {},
   "outputs": [
    {
     "name": "stdout",
     "output_type": "stream",
     "text": [
      "[1, 2, 3, 4, 5, 6, 7, 8, 9, 10]\n",
      "[1, 2, 3, 4, 'Python for Data Science', 2025.1]\n"
     ]
    }
   ],
   "source": [
    "mylist = [1,2,3,4,5,6,7,8,9,10]\n",
    "print(mylist)\n",
    "mixedList = [1,2,3,4, \"Python for Data Science\", 2025.1]\n",
    "print(mixedList)"
   ]
  },
  {
   "cell_type": "markdown",
   "metadata": {},
   "source": [
    "# Arrays \n",
    "arrays are created by importing the array module i.e. \"from array import\"\n",
    "its stored in contiguous memory locations, arrays stores the same data type.\n",
    "we got one dimensional array & multidimensional array, like 2D array or 3D array."
   ]
  },
  {
   "cell_type": "code",
   "execution_count": 23,
   "metadata": {},
   "outputs": [
    {
     "name": "stdout",
     "output_type": "stream",
     "text": [
      "array('i', [1, 2, 3, 4, 5, 6, 7])\n",
      "1\n",
      "2\n",
      "3\n",
      "4\n",
      "5\n",
      "6\n",
      "7\n"
     ]
    }
   ],
   "source": [
    "from array import array\n",
    "myarray = array ('i', [1,2,3,4,5,6,7,]) \n",
    "# i is the data type for the integers mentioned in the array list, it will only print the given data and not print the values of array in a loop.\n",
    "print(myarray)\n",
    "for x in myarray: print(x) #printing values of array list in a loop using for loop."
   ]
  },
  {
   "cell_type": "markdown",
   "metadata": {},
   "source": [
    "# Tuples\n",
    "these are also sequence data type just like lists with curly braces () or without them will be fine. the values are seperated by commas(,) and unlike lists we cannot chanage the elements in tuples once declared. tuple can have any number of elements and they can be of different data types."
   ]
  },
  {
   "cell_type": "code",
   "execution_count": 25,
   "metadata": {},
   "outputs": [
    {
     "name": "stdout",
     "output_type": "stream",
     "text": [
      "(1, 2, 3, 4, 'jupyter notebook')\n",
      "(1, 3, 34, 5, 33, 'tuple without curly braces')\n"
     ]
    }
   ],
   "source": [
    "tupleExample = (1,2,3,4,\"jupyter notebook\") # tuple\n",
    "print(tupleExample)\n",
    "tupleExample1 = 1,3,34,5,33, \"tuple without curly braces\" # this is called tuple packing\n",
    "print(tupleExample1)\n",
    "# even after not assigning curly braces to the tuple, we can see in the output that the curly braces are \n",
    "# automatically assigned, showing that it is a Tuple data type."
   ]
  },
  {
   "cell_type": "markdown",
   "metadata": {},
   "source": [
    "# Dictionary\n",
    "Dictionary is a unordered collection of data values which is used to store data values like a map and it holds key value pair,which is provided in the dictionary itself to make it optimise. key values  holds a key and the key value."
   ]
  },
  {
   "cell_type": "code",
   "execution_count": 5,
   "metadata": {},
   "outputs": [
    {
     "name": "stdout",
     "output_type": "stream",
     "text": [
      "{1: 'First', 2: 'Second', 'Third': 3, 4: 4}\n",
      "({1: 'First'}, [(2, 'Second')], [(3, 'Third')])\n"
     ]
    }
   ],
   "source": [
    "myDict = {1: 'First', 2: 'Second', 'Third' :3, 4:4}\n",
    "print(myDict)\n",
    "dict_Function = dict([(1, 'First')]),([(2, 'Second')]),([(3, 'Third')]) # using dict function to create a dictionary.\n",
    "print(dict_Function)"
   ]
  }
 ],
 "metadata": {
  "kernelspec": {
   "display_name": "Python 3",
   "language": "python",
   "name": "python3"
  },
  "language_info": {
   "codemirror_mode": {
    "name": "ipython",
    "version": 3
   },
   "file_extension": ".py",
   "mimetype": "text/x-python",
   "name": "python",
   "nbconvert_exporter": "python",
   "pygments_lexer": "ipython3",
   "version": "3.13.1"
  }
 },
 "nbformat": 4,
 "nbformat_minor": 2
}
