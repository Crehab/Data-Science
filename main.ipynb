{
 "cells": [
  {
   "cell_type": "markdown",
   "metadata": {},
   "source": [
    "# Starting of Jupyter Notebook :- Seqeuence Data Types.\n",
    "\n",
    "to add a cell above the description, select the description  cell and press 'a',\n",
    "to add a cell below the description, select description cell and press 'b'"
   ]
  },
  {
   "cell_type": "markdown",
   "metadata": {},
   "source": [
    "# Strings \n",
    "these are data types that contain characters and sentences.\n"
   ]
  },
  {
   "cell_type": "code",
   "execution_count": 7,
   "metadata": {},
   "outputs": [
    {
     "name": "stdout",
     "output_type": "stream",
     "text": [
      "Jupyter Notebook\n",
      "Jupyter Notebook1\n",
      "Jupyter Notebook2\n"
     ]
    }
   ],
   "source": [
    "strSample = 'Jupyter Notebook'\n",
    "strSample1 = \"Jupyter Notebook1\"\n",
    "strSample2 = '''Jupyter Notebook2'''\n",
    "print(strSample)\n",
    "print(strSample1)\n",
    "print(strSample2)\n",
    "# string creation"
   ]
  },
  {
   "cell_type": "markdown",
   "metadata": {},
   "source": [
    "# List \n",
    "lists are sequence data type, created using square brackets [] and its a sequence elements that contains different data type inside them, like strings, integers, floats,.. etc\n",
    "Lists are Mutable, means we can modify the given elements even after deploying it or running it. to modify them we use the index value to access the element.\n"
   ]
  },
  {
   "cell_type": "code",
   "execution_count": 2,
   "metadata": {},
   "outputs": [
    {
     "name": "stdout",
     "output_type": "stream",
     "text": [
      "[1, 2, 3, 4, 5, 6, 7, 8, 9, 10]\n",
      "[1, 2, 3, 4, 'Python for Data Science', 2025.1]\n",
      "[1, 2232, 3, 4, 'Python for Data Science', 2025.1]\n"
     ]
    }
   ],
   "source": [
    "mylist = [1,2,3,4,5,6,7,8,9,10]\n",
    "print(mylist)\n",
    "mixedList = [1,2,3,4, \"Python for Data Science\", 2025.1]\n",
    "print(mixedList)\n",
    "mixedList [1] = 2232 # changing or modifying the 2nd element of the list, using the index number 1.\n",
    "print(mixedList)"
   ]
  },
  {
   "cell_type": "markdown",
   "metadata": {},
   "source": [
    "# Arrays \n",
    "arrays are created by importing the array module i.e. \"from array import\"\n",
    "its stored in contiguous memory locations, arrays stores the same data type.\n",
    "we got one dimensional array & multidimensional array, like 2D array or 3D array."
   ]
  },
  {
   "cell_type": "code",
   "execution_count": 23,
   "metadata": {},
   "outputs": [
    {
     "name": "stdout",
     "output_type": "stream",
     "text": [
      "array('i', [1, 2, 3, 4, 5, 6, 7])\n",
      "1\n",
      "2\n",
      "3\n",
      "4\n",
      "5\n",
      "6\n",
      "7\n"
     ]
    }
   ],
   "source": [
    "from array import array\n",
    "myarray = array ('i', [1,2,3,4,5,6,7,]) \n",
    "# i is the data type for the integers mentioned in the array list, it will only print the given data and not print the values of array in a loop.\n",
    "print(myarray)\n",
    "for x in myarray: print(x) #printing values of array list in a loop using for loop."
   ]
  },
  {
   "cell_type": "markdown",
   "metadata": {},
   "source": [
    "# Tuples\n",
    " these are also sequence data type just like lists with curly braces () or without them will be fine. the values are  seperated by commas(,) and unlike lists we cannot chanage the elements in tuples once declared. tuple can have any number of elements and they can be of different data types.\n",
    "Tuples are used to Create Data Structures such as, Dates."
   ]
  },
  {
   "cell_type": "code",
   "execution_count": 2,
   "metadata": {},
   "outputs": [
    {
     "name": "stdout",
     "output_type": "stream",
     "text": [
      "(1, 2, 3, 4, 'jupyter notebook')\n",
      "(1, 3, 34, 5, 33, 'tuple without curly braces')\n",
      "(12,)\n",
      "()\n"
     ]
    }
   ],
   "source": [
    "tupleExample = (1,2,3,4,\"jupyter notebook\") # tuple\n",
    "print(tupleExample)\n",
    "tupleExample1 = 1,3,34,5,33, \"tuple without curly braces\" # this is called tuple packing\n",
    "print(tupleExample1)\n",
    "# even after not assigning curly braces to the tuple, we can see in the output that the curly braces are \n",
    "# automatically assigned, showing that it is a Tuple data type.\n",
    "\n",
    "# we are trying to change the value of the 4th element of the tuple but, it will not happen because tuples are immutable.\n",
    "#tupleExample3 = (1,2,3,4,5)\n",
    "#tupleExample3[3] = 44\n",
    "#print(tupleExample3)\n",
    "\n",
    "t1 = (12,) # to display only single value we put a comman after the value.\n",
    "print(t1)\n",
    " \n",
    " # empty tuple\n",
    "tupleEmpty = ()\n",
    "print(tupleEmpty) # we can also directly write the variable name & press the run button to get the output.\n"
   ]
  },
  {
   "cell_type": "markdown",
   "metadata": {},
   "source": [
    "# Dictionary\n",
    "Dictionary is a unordered collection of data values which is used to store data values like a map and it holds key value pair,which is provided in the dictionary itself to make it optimise. key values  holds a key and the key value.\n",
    "Values in the Dictionary can be of different data types and also can be duplicated.\n",
    "Dictionaries can be created using 'dict ()' function too.\n"
   ]
  },
  {
   "cell_type": "code",
   "execution_count": 5,
   "metadata": {},
   "outputs": [
    {
     "name": "stdout",
     "output_type": "stream",
     "text": [
      "{1: 'First', 2: 'Second', 'Third': 3, 4: 4}\n",
      "({1: 'First'}, [(2, 'Second')], [(3, 'Third')])\n"
     ]
    }
   ],
   "source": [
    "myDict = {1: 'First', 2: 'Second', 'Third' :3, 4:4}\n",
    "print(myDict)\n",
    "dict_Function = dict([(1, 'First')]),([(2, 'Second')]),([(3, 'Third')]) # using dict function to create a dictionary.\n",
    "print(dict_Function)"
   ]
  },
  {
   "cell_type": "markdown",
   "metadata": {},
   "source": [
    "# Set Sequence Data Type\n",
    "Set contains different types of data types in anundefined way.\n",
    "Set does not allow duplcations of the elements of the data types.\n",
    "set cannot be as same as lists. elements of the sets can be, a number, a string & a tuple.\n",
    "another set cannot be a part of a set. each set is different from each other.\n",
    "To Create a set, use curly brackets {} or use the set() function, which is in-built.\n"
   ]
  },
  {
   "cell_type": "code",
   "execution_count": 12,
   "metadata": {},
   "outputs": [
    {
     "name": "stdout",
     "output_type": "stream",
     "text": [
      "{1, 2, 3, 4, 5, 6, 7, 2.34, 'Jupyter Notebook'}\n",
      "{1, 3, 4, 5, 45, 23}\n",
      "{'e', 'x', 'l', 'a', 'm', 'p'}\n"
     ]
    }
   ],
   "source": [
    "setSample = {1,2,3,4,5,6,7,\"Jupyter Notebook\", 2.34}\n",
    "print(setSample)\n",
    "sampleSet = set([1,23,4,45,3,4,5]) #even after entering the same number twice, it will only print the number once/unique values.\n",
    "print(sampleSet)\n",
    "setElement = set('example') # prints the each character of the string as a unique element.\n",
    "print(setElement)\n",
    "sampleSet1 = set()\n",
    "\n"
   ]
  },
  {
   "cell_type": "markdown",
   "metadata": {},
   "source": [
    "# Range\n",
    "it is a built-in function of python, used commonly in for looping to perform any operation for a specific number of times. \n",
    "range() function takes in 3 arguments:-\n",
    "1. start value (default = 0)\n",
    "2. stop value (n-1) n is the stop value minus 1 for example 12-1 = 11 so, 11 will be the actual stop value not 12.\n",
    "3. step value(optional. increment/decrement. default = 1)"
   ]
  },
  {
   "cell_type": "code",
   "execution_count": 15,
   "metadata": {},
   "outputs": [
    {
     "name": "stdout",
     "output_type": "stream",
     "text": [
      "range(1, 12, 2)\n",
      "1\n",
      "3\n",
      "5\n",
      "7\n",
      "9\n",
      "11\n"
     ]
    }
   ],
   "source": [
    "rangeSample = range(1,12,2)\n",
    "print(rangeSample)\n",
    "for x in rangeSample: print(x)"
   ]
  },
  {
   "cell_type": "code",
   "execution_count": 19,
   "metadata": {},
   "outputs": [
    {
     "name": "stdout",
     "output_type": "stream",
     "text": [
      "minusRange :-\n",
      "10\n",
      "9\n",
      "8\n",
      "7\n",
      "6\n",
      "5\n",
      "4\n",
      "3\n",
      "2\n"
     ]
    }
   ],
   "source": [
    "minusRange = range(10, 1,-1)\n",
    "print(\"minusRange :-\")\n",
    "for x in minusRange: print(x)"
   ]
  },
  {
   "cell_type": "code",
   "execution_count": 20,
   "metadata": {},
   "outputs": [
    {
     "name": "stdout",
     "output_type": "stream",
     "text": [
      "Full Ranger:-\n",
      "1\n",
      "2\n",
      "3\n",
      "4\n",
      "5\n",
      "6\n",
      "7\n",
      "8\n",
      "9\n"
     ]
    }
   ],
   "source": [
    "fullRange = range(1, 10)\n",
    "print(\"Full Ranger:-\")\n",
    "for x in fullRange: print(x)"
   ]
  },
  {
   "cell_type": "markdown",
   "metadata": {},
   "source": [
    "# Indexing\n",
    "to display the index number of a particular element, we use circular braces ()\n",
    "to display the particular element at a given index, we use square brackets []\n",
    "# String Indexing "
   ]
  },
  {
   "cell_type": "code",
   "execution_count": 10,
   "metadata": {},
   "outputs": [
    {
     "data": {
      "text/plain": [
       "1"
      ]
     },
     "execution_count": 10,
     "metadata": {},
     "output_type": "execute_result"
    }
   ],
   "source": [
    "name = 'Rohan'\n",
    "name.index('R') # shows the index value of the corresponding character in the string."
   ]
  },
  {
   "cell_type": "code",
   "execution_count": 16,
   "metadata": {},
   "outputs": [
    {
     "data": {
      "text/plain": [
       "2"
      ]
     },
     "execution_count": 16,
     "metadata": {},
     "output_type": "execute_result"
    }
   ],
   "source": [
    "name.index('han') # tells us from which index the given string starts."
   ]
  },
  {
   "cell_type": "code",
   "execution_count": 17,
   "metadata": {},
   "outputs": [
    {
     "data": {
      "text/plain": [
       "'h'"
      ]
     },
     "execution_count": 17,
     "metadata": {},
     "output_type": "execute_result"
    }
   ],
   "source": [
    "name[2] # gives the character that is present in the 2nd index of the string."
   ]
  },
  {
   "cell_type": "code",
   "execution_count": 18,
   "metadata": {},
   "outputs": [
    {
     "data": {
      "text/plain": [
       "'n'"
      ]
     },
     "execution_count": 18,
     "metadata": {},
     "output_type": "execute_result"
    }
   ],
   "source": [
    "name[-1]\n",
    "# gives the 2nd last element of the string."
   ]
  },
  {
   "cell_type": "markdown",
   "metadata": {},
   "source": [
    "# List Indexing"
   ]
  },
  {
   "cell_type": "code",
   "execution_count": 25,
   "metadata": {},
   "outputs": [
    {
     "data": {
      "text/plain": [
       "1"
      ]
     },
     "execution_count": 25,
     "metadata": {},
     "output_type": "execute_result"
    }
   ],
   "source": [
    "list = [1,2,'a','rohan']\n",
    "list.index(2) # gives the output of index correspounds to element 2 \n"
   ]
  },
  {
   "cell_type": "markdown",
   "metadata": {},
   "source": []
  },
  {
   "cell_type": "code",
   "execution_count": 30,
   "metadata": {},
   "outputs": [
    {
     "data": {
      "text/plain": [
       "3"
      ]
     },
     "execution_count": 30,
     "metadata": {},
     "output_type": "execute_result"
    }
   ],
   "source": [
    "list.index('rohan') # gives the output of index correspounds to element 'rohan'"
   ]
  },
  {
   "cell_type": "code",
   "execution_count": 31,
   "metadata": {},
   "outputs": [
    {
     "data": {
      "text/plain": [
       "'rohan'"
      ]
     },
     "execution_count": 31,
     "metadata": {},
     "output_type": "execute_result"
    }
   ],
   "source": [
    "# finding the element coresponnds to the given index value.\n",
    "list[3]\n"
   ]
  },
  {
   "cell_type": "code",
   "execution_count": 33,
   "metadata": {},
   "outputs": [
    {
     "data": {
      "text/plain": [
       "'rohan'"
      ]
     },
     "execution_count": 33,
     "metadata": {},
     "output_type": "execute_result"
    }
   ],
   "source": [
    "list[-1] \n",
    "# gives the 2nd last element of the list"
   ]
  },
  {
   "cell_type": "markdown",
   "metadata": {},
   "source": [
    "# Tuple Indexing"
   ]
  },
  {
   "cell_type": "code",
   "execution_count": 38,
   "metadata": {},
   "outputs": [
    {
     "data": {
      "text/plain": [
       "1"
      ]
     },
     "execution_count": 38,
     "metadata": {},
     "output_type": "execute_result"
    }
   ],
   "source": [
    "tuple1 = (1,2,3,4,5,'rohan')\n",
    "tuple1.index(2)"
   ]
  },
  {
   "cell_type": "code",
   "execution_count": 39,
   "metadata": {},
   "outputs": [
    {
     "data": {
      "text/plain": [
       "5"
      ]
     },
     "execution_count": 39,
     "metadata": {},
     "output_type": "execute_result"
    }
   ],
   "source": [
    "tuple1.index('rohan')"
   ]
  },
  {
   "cell_type": "code",
   "execution_count": 40,
   "metadata": {},
   "outputs": [
    {
     "data": {
      "text/plain": [
       "3"
      ]
     },
     "execution_count": 40,
     "metadata": {},
     "output_type": "execute_result"
    }
   ],
   "source": [
    "tuple1[2]"
   ]
  },
  {
   "cell_type": "code",
   "execution_count": 41,
   "metadata": {},
   "outputs": [
    {
     "data": {
      "text/plain": [
       "'rohan'"
      ]
     },
     "execution_count": 41,
     "metadata": {},
     "output_type": "execute_result"
    }
   ],
   "source": [
    "tuple1[5]"
   ]
  },
  {
   "cell_type": "code",
   "execution_count": 47,
   "metadata": {},
   "outputs": [
    {
     "ename": "IndexError",
     "evalue": "tuple index out of range",
     "output_type": "error",
     "traceback": [
      "\u001b[1;31m---------------------------------------------------------------------------\u001b[0m",
      "\u001b[1;31mIndexError\u001b[0m                                Traceback (most recent call last)",
      "Cell \u001b[1;32mIn[47], line 1\u001b[0m\n\u001b[1;32m----> 1\u001b[0m \u001b[43mtuple1\u001b[49m\u001b[43m[\u001b[49m\u001b[38;5;241;43m6\u001b[39;49m\u001b[43m]\u001b[49m \n\u001b[0;32m      2\u001b[0m \u001b[38;5;66;03m#no element is present at the 6th index so,it will throw an error. \u001b[39;00m\n",
      "\u001b[1;31mIndexError\u001b[0m: tuple index out of range"
     ]
    }
   ],
   "source": [
    "tuple1[6] \n",
    "#no element is present at the 6th index so,it will throw an error. \n"
   ]
  },
  {
   "cell_type": "code",
   "execution_count": 48,
   "metadata": {},
   "outputs": [
    {
     "data": {
      "text/plain": [
       "4"
      ]
     },
     "execution_count": 48,
     "metadata": {},
     "output_type": "execute_result"
    }
   ],
   "source": [
    "tuple1[-3]"
   ]
  },
  {
   "cell_type": "markdown",
   "metadata": {},
   "source": [
    "# Array Indexing"
   ]
  },
  {
   "cell_type": "code",
   "execution_count": 59,
   "metadata": {},
   "outputs": [
    {
     "name": "stdout",
     "output_type": "stream",
     "text": [
      "array('i', [1, 2, 3, 4, 5])\n",
      "1\n",
      "2\n",
      "3\n",
      "4\n",
      "5\n"
     ]
    }
   ],
   "source": [
    " # we are importing the array here and using the * operator to use this array for all the function.\n",
    "from array import *\n",
    "\n",
    "value = array('i',[1,2,3,4,5])\n",
    "print(value) # prints the arrays with their given data type.\n",
    "for x in value: print(x) # prints each element of the array in sequence wise, or in a loop wise.\n",
    "\n",
    "\n"
   ]
  }
 ],
 "metadata": {
  "kernelspec": {
   "display_name": "Python 3",
   "language": "python",
   "name": "python3"
  },
  "language_info": {
   "codemirror_mode": {
    "name": "ipython",
    "version": 3
   },
   "file_extension": ".py",
   "mimetype": "text/x-python",
   "name": "python",
   "nbconvert_exporter": "python",
   "pygments_lexer": "ipython3",
   "version": "3.13.1"
  }
 },
 "nbformat": 4,
 "nbformat_minor": 2
}
